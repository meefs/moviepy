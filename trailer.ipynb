{
 "cells": [
  {
   "cell_type": "markdown",
   "metadata": {},
   "source": [
    "# Trailer editing with MoviePy"
   ]
  },
  {
   "cell_type": "markdown",
   "metadata": {},
   "source": [
    "Lets import moviepy, lets also import numpy we will use it a some point"
   ]
  },
  {
   "cell_type": "code",
   "execution_count": null,
   "metadata": {},
   "outputs": [],
   "source": [
    "from moviepy import *\n",
    "import numpy as np"
   ]
  },
  {
   "cell_type": "markdown",
   "metadata": {},
   "source": [
    "## Video Loading",
    "\n",
    "We load our video"
   ]
  },
  {
   "cell_type": "code",
   "execution_count": null,
   "metadata": {},
   "outputs": [],
   "source": [
    "video = VideoFileClip(\"./resources/bbb.mp4\")"
   ]
  },
  {
   "cell_type": "markdown",
   "metadata": {},
   "source": [
    "## Scenes Extraction"
   ]
  },
  {
   "cell_type": "code",
   "execution_count": null,
   "metadata": {},
   "outputs": [],
   "source": [
    "intro_clip = video.with_subclip(1, 11)\n",
    "bird_clip = video.with_subclip(16, 20)\n",
    "bunny_clip = video.with_subclip(37, 55)\n",
    "rodents_clip = video.with_subclip('00:03:34.75', '00:03:56')  # we can also use string notation with format HH:MM:SS.uS\n",
    "rambo_clip = video.with_subclip('04:41.5', '04:44.70')"
   ]
  },
  {
   "cell_type": "markdown",
   "metadata": {},
   "source": [
    "## Scenes Previewing",
    "\n",
    "Warning: you need ffplay installed for preview to work"
   ]
  },
  {
   "cell_type": "code",
   "execution_count": null,
   "metadata": {},
   "outputs": [],
   "source": [
    "intro_clip.preview(fps=20)\n",
    "bird_clip.preview(fps=20)\n",
    "bunny_clip.preview(fps=20)\n",
    "rodents_clip.preview(fps=20)\n",
    "rambo_clip.preview(fps=20)"
   ]
  },
  {
   "cell_type": "markdown",
   "metadata": {},
   "source": [
    "## Clips Modification Cutting"
   ]
  },
  {
   "cell_type": "code",
   "execution_count": null,
   "metadata": {},
   "outputs": [],
   "source": [
    "rodents_clip = rodents_clip.with_cutout(start_time=4, end_time=10)\n",
    "rodents_clip.preview(fps=10)"
   ]
  },
  {
   "cell_type": "markdown",
   "metadata": {},
   "source": [
    "## Text/Logo Clips Creation"
   ]
  },
  {
   "cell_type": "code",
   "execution_count": null,
   "metadata": {},
   "outputs": [],
   "source": [
    "font = './resources/font/font.ttf'\n",
    "intro_text = TextClip(font=font, text='The Blender Foundation and\\nPeach Project presents', font_size=50, color='#fff', text_align='center')\n",
    "bird_text = TextClip(font=font, text='An unlucky bird', font_size=50, color='#fff')\n",
    "bunny_text = TextClip(font=font, text='A (slightly overweight) bunny', font_size=50, color='#fff')\n",
    "rodents_text = TextClip(font=font, text='And three rodent pests', font_size=50, color='#fff')\n",
    "revenge_text = TextClip(font=font, text='Revenge is coming...', font_size=50, color='#fff')\n",
    "made_with_text = TextClip(font=font, text='Made with', font_size=50, color='#fff')\n",
    "logo_clip = ImageClip('./resources/logo_bbb.png').resized(width=400)\n",
    "moviepy_clip = ImageClip('./resources/logo_moviepy.png').resized(width=300)"
   ]
  },
  {
   "cell_type": "markdown",
   "metadata": {},
   "source": [
    "## Clips Timing"
   ]
  },
  {
   "cell_type": "code",
   "execution_count": null,
   "metadata": {},
   "outputs": [],
   "source": [
    "intro_text = intro_text.with_duration(6).with_start(3)\n",
    "logo_clip = logo_clip.with_start(intro_text.start + 2).with_end(intro_text.end)\n",
    "bird_clip = bird_clip.with_start(intro_clip.end)\n",
    "bird_text = bird_text.with_start(bird_clip.start).with_end(bird_clip.end)\n",
    "bunny_clip = bunny_clip.with_start(bird_clip.end)\n",
    "bunny_text = bunny_text.with_start(bunny_clip.start + 2).with_duration(7)\n",
    "rodents_clip = rodents_clip.with_start(bunny_clip.end)\n",
    "rodents_text = rodents_text.with_start(rodents_clip.start).with_duration(4)\n",
    "rambo_clip = rambo_clip.with_start(rodents_clip.end - 1.5)\n",
    "revenge_text = revenge_text.with_start(rambo_clip.start + 1.5).with_duration(4)\n",
    "made_with_text = made_with_text.with_start(rambo_clip.end).with_duration(3)\n",
    "moviepy_clip = moviepy_clip.with_start(made_with_text.start).with_duration(3)"
   ]
  },
  {
   "cell_type": "markdown",
   "metadata": {},
   "source": [
    "## Clips Timing Preview"
   ]
  },
  {
   "cell_type": "code",
   "execution_count": null,
   "metadata": {},
   "outputs": [],
   "source": [
    "quick_compo = CompositeVideoClip([intro_clip, intro_text, logo_clip, bird_clip, bird_text, bunny_clip, bunny_text, rodents_clip,\n",
    "                                  rodents_text, rambo_clip, revenge_text, made_with_text, moviepy_clip])\n",
    "quick_compo.preview(fps=10)"
   ]
  },
  {
   "cell_type": "markdown",
   "metadata": {},
   "source": [
    "## Clips Positioning"
   ]
  },
  {
   "cell_type": "code",
   "execution_count": null,
   "metadata": {},
   "outputs": [],
   "source": [
    "bird_text = bird_text.with_position(('center', 'center'))\n",
    "bunny_text = bunny_text.with_position(('center', 'center'))\n",
    "rodents_text = rodents_text.with_position(('center', 'center'))\n",
    "revenge_text = revenge_text.with_position(('center', 'center'))\n",
    "top = intro_clip.h // 2\n",
    "intro_text = intro_text.with_position(('center', 200))\n",
    "logo_clip = logo_clip.with_position(('center', top))\n",
    "made_with_text = made_with_text.with_position(('center', 300))\n",
    "moviepy_clip = moviepy_clip.with_position(('center', 360))\n",
    "quick_compo = CompositeVideoClip([intro_clip, intro_text, logo_clip, bird_clip, bird_text, bunny_clip, bunny_text, rodents_clip,\n",
    "                                  rodents_text, rambo_clip, revenge_text, made_with_text, moviepy_clip])\n",
    "# quick_compo.preview(fps=10)"
   ]
  },
  {
   "cell_type": "markdown",
   "metadata": {},
   "source": [
    "## Clips Transition and Effects"
   ]
  },
  {
   "cell_type": "code",
   "execution_count": null,
   "metadata": {},
   "outputs": [],
   "source": [
    "intro_text = intro_text.with_effects([vfx.CrossFadeIn(1), vfx.CrossFadeOut(1)])\n",
    "logo_clip = logo_clip.with_effects([vfx.CrossFadeIn(1), vfx.CrossFadeOut(1)])\n",
    "bird_text = bird_text.with_effects([vfx.CrossFadeIn(0.5), vfx.CrossFadeOut(0.5)])\n",
    "bunny_text = bunny_text.with_effects([vfx.CrossFadeIn(0.5), vfx.CrossFadeOut(0.5)])\n",
    "rodents_text = rodents_text.with_effects([vfx.CrossFadeIn(0.5), vfx.CrossFadeOut(0.5)])\n",
    "intro_clip = intro_clip.with_effects([vfx.FadeIn(1), vfx.FadeOut(1), afx.AudioFadeIn(1), afx.AudioFadeOut(1)])\n",
    "bird_clip = bird_clip.with_effects([vfx.FadeIn(1), vfx.FadeOut(1), afx.AudioFadeIn(1), afx.AudioFadeOut(1)])\n",
    "bunny_clip = bunny_clip.with_effects([vfx.FadeIn(1), vfx.FadeOut(1), afx.AudioFadeIn(1), afx.AudioFadeOut(1)])\n",
    "rodents_clip = rodents_clip.with_effects([vfx.FadeIn(1), vfx.CrossFadeOut(1.5), afx.AudioFadeIn(1), afx.AudioFadeOut(1.5)])\n",
    "rambo_clip = rambo_clip.with_effects([vfx.CrossFadeIn(1.5), vfx.FadeOut(1), afx.AudioFadeIn(1.5), afx.AudioFadeOut(1)])\n",
    "rambo_clip = rambo_clip.with_effects([vfx.CrossFadeIn(1.5), vfx.FadeOut(1), afx.AudioFadeIn(1.5), afx.AudioFadeOut(1)])\n",
    "rambo_clip = rambo_clip.with_effects([vfx.MultiplySpeed(0.5)])\n",
    "made_with_text = made_with_text.with_start(rambo_clip.end).with_duration(3)\n",
    "moviepy_clip = moviepy_clip.with_start(made_with_text.start).with_duration(3)\n",
    "quick_comp = CompositeVideoClip([intro_clip, intro_text, logo_clip, bird_clip, bird_text, bunny_clip, bunny_text,\n",
    "                                 rodents_clip, rodents_text, rambo_clip, revenge_text, made_with_text, moviepy_clip])\n",
    "quick_comp.preview(fps=10)"
   ]
  },
  {
   "cell_type": "markdown",
   "metadata": {},
   "source": [
    "## Clip Filter"
   ]
  },
  {
   "cell_type": "code",
   "execution_count": null,
   "metadata": {},
   "outputs": [],
   "source": [
    "def sepia_fitler(frame: np.ndarray):\n",
    "    sepia_matrix = np.array([[0.393, 0.769, 0.189],\n",
    "                            [0.349, 0.686, 0.168],\n",
    "                            [0.272, 0.534, 0.131]])\n",
    "    frame = frame.astype(np.float32)\n",
    "    sepia_image = np.dot(frame, sepia_matrix.T)\n",
    "    sepia_image = np.clip(sepia_image, 0, 255)\n",
    "    sepia_image = sepia_image.astype(np.uint8)\n",
    "    return sepia_image\n",
    "\n",
    "rambo_clip = rambo_clip.image_transform(sepia_fitler)\n",
    "rambo_clip.preview(fps=10)"
   ]
  },
  {
   "cell_type": "markdown",
   "metadata": {},
   "source": [
    "## Clip Rendering"
   ]
  },
  {
   "cell_type": "code",
   "execution_count": null,
   "metadata": {},
   "outputs": [],
   "source": [
    "final_clip = CompositeVideoClip([intro_clip, intro_text, logo_clip, bird_clip, bird_text, bunny_clip, bunny_text,\n",
    "                                 rodents_clip, rodents_text, rambo_clip, revenge_text, made_with_text, moviepy_clip])\n",
    "final_clip.write_videofile('./result.mp4')"
   ]
  }
 ],
 "metadata": {
  "kernelspec": {
   "display_name": "Python 3",
   "language": "python",
   "name": "python3"
  },
  "language_info": {
   "name": "python",
   "version": "3.11"
  }
 },
 "nbformat": 4,
 "nbformat_minor": 5
}
